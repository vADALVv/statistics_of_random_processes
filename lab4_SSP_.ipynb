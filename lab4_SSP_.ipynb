{
  "cells": [
    {
      "cell_type": "code",
      "execution_count": 1,
      "metadata": {
        "id": "l82JFshRl0J8"
      },
      "outputs": [],
      "source": [
        "import numpy as np\n",
        "from matplotlib import pyplot as plt\n",
        "from scipy.optimize import minimize\n",
        "from numba import jit, njit\n",
        "from scipy.stats import  t\n",
        "import pandas as pd\n",
        "from scipy.stats import norm, t\n"
      ]
    },
    {
      "cell_type": "code",
      "execution_count": 2,
      "metadata": {
        "id": "9i0pEU8Ql0J_"
      },
      "outputs": [],
      "source": [
        "class StochasticProcess:\n",
        "    def __init__(self, params, T, Nx, Nt, init_state = None):\n",
        "        self.params = params\n",
        "        self.T = T\n",
        "        self.Nx = Nx # Number of trajectories\n",
        "        self.Nt = Nt # Number of discretization steps\n",
        "        self.init_state = init_state\n",
        "\n",
        "    # Wiener Process by default\n",
        "    # use @staticmethod for numba compatibility with @njit\n",
        "    @staticmethod\n",
        "    @njit\n",
        "    def bxt(x, t, params):\n",
        "        return 0\n",
        "\n",
        "    @staticmethod\n",
        "    @njit\n",
        "    def sigmaxt(x, t, params):\n",
        "        return 1\n",
        "\n",
        "    @staticmethod\n",
        "    @njit\n",
        "    def bxt_x(x, t, params):\n",
        "        return 0\n",
        "\n",
        "    @staticmethod\n",
        "    @njit\n",
        "    def bxt_xx(x, t, params):\n",
        "        return 0\n",
        "\n",
        "    @staticmethod\n",
        "    @njit\n",
        "    def sigmaxt_x(x, t, params):\n",
        "        return 0\n",
        "\n",
        "    @staticmethod\n",
        "    @njit\n",
        "    def sigmaxt_xx(x, t, params):\n",
        "        return 0\n",
        "\n",
        "    @staticmethod\n",
        "    @njit\n",
        "    def bxt_t(x, t, params):\n",
        "        return 0\n",
        "\n",
        "    def DefaultInitState(self):\n",
        "        return np.zeros(self.Nx)\n",
        "\n",
        "    def EulerSolution(self, dwt = None):\n",
        "        dt = self.T / self.Nt\n",
        "        t_data = np.linspace(0, self.T, self.Nt + 1)\n",
        "        x_data = np.zeros((self.Nt + 1, self.Nx))\n",
        "\n",
        "        if dwt is None:\n",
        "            dwt = np.random.normal(0, 1, size = (self.Nt, self.Nx)) * np.sqrt(dt)\n",
        "\n",
        "        if self.init_state is None:\n",
        "            x_data[0] = self.DefaultInitState()\n",
        "        else:\n",
        "            x_data[0] = self.init_state\n",
        "\n",
        "        for i in range(1, self.Nt + 1):\n",
        "            x_data[i] = x_data[i - 1] + self.bxt(x_data[i - 1], t_data[i - 1], self.params) * dt +\\\n",
        "                        self.sigmaxt(x_data[i - 1], t_data[i - 1], self.params) * dwt[i - 1]\n",
        "        return t_data, x_data\n",
        "\n",
        "    @staticmethod\n",
        "    @njit\n",
        "    def EulerDensity(x, t, x0, t0, params, bxt, bxt_x, bxt_xx, sigmaxt, sigmaxt_x, sigmaxt_xx, bxt_t):\n",
        "        xs = x0 + bxt(x0, t0, params) * (t - t0)\n",
        "        sigma2 = sigmaxt(x0, t0, params)**2 * (t - t0)\n",
        "\n",
        "        return -1/2 * np.log(2 * np.pi * sigma2) - (x - xs)**2 / (2 * sigma2)\n",
        "\n",
        "    @staticmethod\n",
        "    @njit\n",
        "    def OzakiDensity(x, t, x0, t0, params, bxt, bxt_x, bxt_xx, sigmaxt, sigmaxt_x, sigmaxt_xx, bxt_t):\n",
        "        K = 1 / (t - t0) * np.log(1 + bxt(x0, t0, params) / (x0 * bxt_x(x0, t0, params)) * (np.exp(bxt_x(x0, t0, params) * (t - t0)) - 1))\n",
        "        E = x0 + bxt(x0, t0, params) / bxt_x(x0, t0, params) * (np.exp(bxt_x(x0, t0, params) * (t - t0)) - 1)\n",
        "        V = sigmaxt(x0, t0, params)**2 / (2 * K) * (np.exp(2 * K * (t - t0)) - 1)\n",
        "\n",
        "        if K == 0:\n",
        "            K = K + 0.001\n",
        "        if E == 0:\n",
        "            E = E + 0.001\n",
        "        if V == 0:\n",
        "            V = V + 0.001\n",
        "\n",
        "        xs = E\n",
        "        sigma2 = V\n",
        "\n",
        "        return -1/2 * np.log(2 * np.pi * sigma2) - (x - xs)**2 / (2 * sigma2)\n",
        "\n",
        "    @staticmethod\n",
        "    @njit\n",
        "    def ShojiOzakiDensity(x, t, x0, t0, params, bxt, bxt_x, bxt_xx, sigmaxt, sigmaxt_x, sigmaxt_xx, bxt_t):\n",
        "        L = bxt_x(x0, t0, params)\n",
        "\n",
        "        #safe division\n",
        "        if L == 0:\n",
        "            L = L + 0.001\n",
        "\n",
        "        M = sigmaxt(x0, t0, params)**2 / 2 * bxt_xx(x0, t0, params) + bxt_t(x0, t0, params)\n",
        "\n",
        "        A = 1 + bxt(x0, t0, params) / (x0 * L) * (np.exp(L * (t - t0)) - 1) + M / (x0 * L**2) * \\\n",
        "            (np.exp(L * (t - t0)) - 1 - L * (t - t0))\n",
        "        B = sigmaxt(x0, t0, params)**2 * 1/(2 * L) * (np.exp(2 * L * (t - t0)) - 1)\n",
        "\n",
        "        xs = A * x0\n",
        "        sigma2 = B\n",
        "\n",
        "        return -1/2 * np.log(2 * np.pi * sigma2) - (x - xs)**2 / (2 * sigma2)\n",
        "\n",
        "    @staticmethod\n",
        "    @njit\n",
        "    def KesslerDensity(x, t, x0, t0, params, bxt, bxt_x, bxt_xx, sigmaxt, sigmaxt_x, sigmaxt_xx, bxt_t):\n",
        "        E = x0 + bxt(x0, t0, params) * (t - t0) + (bxt(x0, t0, params) * bxt_x(x0, t0, params) + 1/2 * \\\n",
        "            sigmaxt(x0, t0, params)**2 * bxt_xx(x0, t0, params)) * 1/2 * (t - t0)**2\n",
        "        V = x0**2 + (2 * bxt(x0, t0, params) * x0 + sigmaxt(x0, t0, params)**2 ) * (t - t0)\\\n",
        "            + (2 * bxt(x0, t0, params) * (bxt_x(x0, t0, params) * x0 + bxt(x0, t0, params) + \\\n",
        "                sigmaxt(x0, t0, params) * sigmaxt_x(x0, t0, params))\\\n",
        "            + sigmaxt(x0, t0, params)**2 * (bxt_xx(x0, t0, params) * x0 + 2 * bxt_x(x0, t0, params) +\\\n",
        "                sigmaxt_x(x0, t0, params)**2 + sigmaxt(x0, t0, params) * sigmaxt_xx(x0, t0, params))) * (t - t0)**2 / 2 - E**2\n",
        "\n",
        "        xs = E\n",
        "\n",
        "        #safe division\n",
        "        if V == 0:\n",
        "            V = V + 0.001\n",
        "\n",
        "        sigma2 = V\n",
        "\n",
        "        return -1/2 * np.log(2 * np.pi * sigma2) - (x - xs)**2 / (2 * sigma2)\n",
        "\n",
        "    @staticmethod\n",
        "    @njit\n",
        "    def MLogLik(params, t_data, x_data, density, bxt, bxt_x, bxt_xx, sigmaxt, sigmaxt_x, sigmaxt_xx, bxt_t):\n",
        "        Nt = len(x_data)\n",
        "        Nx = len(x_data[0])\n",
        "        log_data = np.zeros(Nx)\n",
        "        for k in range(0, Nx):\n",
        "            m_log_lik = 0\n",
        "            for j in range(1, Nt):\n",
        "                m_log_lik += density(x_data[j][k], t_data[j], x_data[j - 1][k], t_data[j - 1], params,\n",
        "                                     bxt, bxt_x, bxt_xx, sigmaxt, sigmaxt_x, sigmaxt_xx, bxt_t)\n",
        "            log_data[k] = m_log_lik\n",
        "\n",
        "        res = -np.mean(log_data)\n",
        "        return res\n",
        "\n",
        "    def EulerEstimation(self, t_data, x_data):\n",
        "        x0 = np.ones(len(self.params))\n",
        "        accuracy = 1e-8\n",
        "\n",
        "        min_result = minimize(self.MLogLik,\n",
        "                              x0 = x0,\n",
        "                              args=(t_data, x_data, self.EulerDensity,\n",
        "                              self.bxt, self.bxt_x, self.bxt_xx, self.sigmaxt, self.sigmaxt_x, self.sigmaxt_xx,\n",
        "                              self.bxt_t),\n",
        "                              method = 'L-BFGS-B',\n",
        "                              options={'ftol': accuracy, 'eps': accuracy})\n",
        "        return min_result\n",
        "\n",
        "    def OzakiEstimation(self, t_data, x_data):\n",
        "        x0 = np.ones(len(self.params))\n",
        "        accuracy = 1e-8\n",
        "\n",
        "        min_result = minimize(self.MLogLik,\n",
        "                              x0 = x0,\n",
        "                              args=(t_data, x_data, self.OzakiDensity,\n",
        "                              self.bxt, self.bxt_x, self.bxt_xx, self.sigmaxt, self.sigmaxt_x, self.sigmaxt_xx,\n",
        "                              self.bxt_t),\n",
        "                              method = 'L-BFGS-B',\n",
        "                              options={'ftol': accuracy, 'eps': accuracy})\n",
        "        return min_result\n",
        "\n",
        "    def ShojiOzakiEstimation(self, t_data, x_data):\n",
        "        x0 = np.ones(len(self.params))\n",
        "        accuracy = 1e-8\n",
        "\n",
        "        min_result = minimize(self.MLogLik,\n",
        "                              x0 = x0,\n",
        "                              args=(t_data, x_data, self.ShojiOzakiDensity,\n",
        "                              self.bxt, self.bxt_x, self.bxt_xx, self.sigmaxt, self.sigmaxt_x, self.sigmaxt_xx,\n",
        "                              self.bxt_t),\n",
        "                              method = 'L-BFGS-B',\n",
        "                              options={'ftol': accuracy, 'eps': accuracy})\n",
        "        return min_result\n",
        "\n",
        "    def KesslerEstimation(self, t_data, x_data):\n",
        "        x0 = np.ones(len(self.params))\n",
        "        accuracy = 1e-8\n",
        "\n",
        "        min_result = minimize(self.MLogLik,\n",
        "                              x0 = x0,\n",
        "                              args=(t_data, x_data, self.KesslerDensity,\n",
        "                              self.bxt, self.bxt_x, self.bxt_xx, self.sigmaxt, self.sigmaxt_x, self.sigmaxt_xx,\n",
        "                              self.bxt_t),\n",
        "                              method = 'L-BFGS-B',\n",
        "                              options={'ftol': accuracy, 'eps': accuracy})\n",
        "        return min_result\n",
        "\n",
        "\n",
        "class OUprocess(StochasticProcess):\n",
        "    def __init__(self, params, T, Nx, Nt, init_state = None):\n",
        "        super().__init__(params, T, Nx, Nt, init_state)\n",
        "\n",
        "    # params = [theta, mu, sigma]\n",
        "\n",
        "    @staticmethod\n",
        "    @njit\n",
        "    def bxt(x, t, params):\n",
        "        return params[0] * (params[1] - x)\n",
        "\n",
        "    @staticmethod\n",
        "    @njit\n",
        "    def sigmaxt(x, t, params):\n",
        "        return params[2]\n",
        "\n",
        "    @staticmethod\n",
        "    @njit\n",
        "    def bxt_x(x, t, params):\n",
        "        return -params[0]\n",
        "\n",
        "    def DefaultInitState(self):\n",
        "        return self.params[1] * np.ones(self.Nx)\n",
        "\n",
        "class CKLSprocess(StochasticProcess):\n",
        "    def __init__(self, params, T, Nx, Nt, init_state = None):\n",
        "        super().__init__(params, T, Nx, Nt, init_state)\n",
        "\n",
        "    # params = [theta1, theta2, theta3]\n",
        "    @staticmethod\n",
        "    @njit\n",
        "    def bxt(x, t, params):\n",
        "        return params[0] + params[1] * x\n",
        "\n",
        "    @staticmethod\n",
        "    @njit\n",
        "    def sigmaxt(x, t, params):\n",
        "        return params[2] * x**params[3]\n",
        "\n",
        "    @staticmethod\n",
        "    @njit\n",
        "    def bxt_x(x, t, params):\n",
        "        return params[1]\n",
        "\n",
        "    @staticmethod\n",
        "    @njit\n",
        "    def sigmaxt_x(x, t, params):\n",
        "        return params[2] * params[3] * x**(params[3] - 1)\n",
        "\n",
        "    @staticmethod\n",
        "    @njit\n",
        "    def sigmaxt_xx(x, t, params):\n",
        "        return params[2] * params[3] * (params[3] - 1) * x**(params[3] - 2)\n",
        "\n",
        "    def DefaultInitState(self):\n",
        "        return self.params[0] / self.params[1] * np.ones(self.Nx)\n",
        "\n",
        "class Task5process(StochasticProcess):\n",
        "    def __init__(self, params, T, Nx, Nt, init_state = None):\n",
        "        super().__init__(params, T, Nx, Nt, init_state)\n",
        "\n",
        "    # params = [theta1, theta2]\n",
        "    @staticmethod\n",
        "    @njit\n",
        "    def bxt(x, t, params):\n",
        "        return params[0] * t * x\n",
        "\n",
        "    @staticmethod\n",
        "    @njit\n",
        "    def sigmaxt(x, t, params):\n",
        "        return params[1] * x\n",
        "\n",
        "    @staticmethod\n",
        "    @njit\n",
        "    def bxt_x(x, t, params):\n",
        "        return params[0] * t\n",
        "\n",
        "    @staticmethod\n",
        "    @njit\n",
        "    def sigmaxt_x(x, t, params):\n",
        "        return params[1]\n",
        "\n",
        "    @staticmethod\n",
        "    @njit\n",
        "    def bxt_t(x, t, params):\n",
        "        return params[0] * x\n",
        "\n",
        "    def DefaultInitState(self):\n",
        "        return self.params[0] / self.params[1] * np.ones(self.Nx)\n",
        "\n",
        "class HullWhiteprocess(StochasticProcess):\n",
        "    def __init__(self, params, T, Nx, Nt, init_state = None):\n",
        "        super().__init__(params, T, Nx, Nt, init_state)\n",
        "\n",
        "    # params = [theta1, theta2, theta3]\n",
        "    @staticmethod\n",
        "    @njit\n",
        "    def bxt(x, t, params):\n",
        "        return params[0] * t * (params[1] * np.sqrt(t) - x)\n",
        "\n",
        "    @staticmethod\n",
        "    @njit\n",
        "    def sigmaxt(x, t, params):\n",
        "        return params[2] * t\n",
        "\n",
        "    @staticmethod\n",
        "    @njit\n",
        "    def bxt_x(x, t, params):\n",
        "        return -params[0] * t\n",
        "\n",
        "    @staticmethod\n",
        "    @njit\n",
        "    def bxt_t(x, t, params):\n",
        "        return params[0] * params[1] * 3/2 * np.sqrt(t)\n",
        "\n",
        "    def DefaultInitState(self):\n",
        "        return self.params[1] * np.ones(self.Nx)"
      ]
    },
    {
      "cell_type": "markdown",
      "metadata": {
        "id": "7ZI2_4Tzl0KA"
      },
      "source": [
        "Task 1. Evaluate the conditional density of the Ornstein-Uhlenbeck process\n",
        "$$dX_t = (3-X_t)dt+2dW_t, \\quad X_0=1, \\quad %\\theta=(1, 3, 2), \\quad\n",
        "N=100000,\n",
        "\\quad \\Delta=1$$ and calculate the\n",
        "maximum likelihood estimation.  "
      ]
    },
    {
      "cell_type": "code",
      "execution_count": 3,
      "metadata": {
        "id": "VR1fEqA9l0KB"
      },
      "outputs": [],
      "source": [
        "Nx = 1000\n",
        "Nt = 300\n",
        "\n",
        "T = 1\n",
        "\n",
        "params_OU = np.array([3, 1, 2])\n",
        "\n",
        "x0 = 1\n",
        "init_state = x0 * np.ones(Nx)\n",
        "\n",
        "OUp = OUprocess(params_OU, T, Nx, Nt, init_state)\n",
        "\n",
        "t_data, x_data_OU = OUp.EulerSolution()"
      ]
    },
    {
      "cell_type": "code",
      "execution_count": 4,
      "metadata": {
        "colab": {
          "base_uri": "https://localhost:8080/"
        },
        "id": "IQF701lNl0KB",
        "outputId": "d223ddbb-8604-46e0-c2f9-0a3aea87d7df"
      },
      "outputs": [
        {
          "output_type": "execute_result",
          "data": {
            "text/plain": [
              "  message: CONVERGENCE: REL_REDUCTION_OF_F_<=_FACTR*EPSMCH\n",
              "  success: True\n",
              "   status: 0\n",
              "      fun: -222.181263893808\n",
              "        x: [ 2.972e+00  1.016e+00  1.998e+00]\n",
              "      nit: 14\n",
              "      jac: [ 3.695e-05  1.421e-04  1.990e-05]\n",
              "     nfev: 72\n",
              "     njev: 18\n",
              " hess_inv: <3x3 LbfgsInvHessProduct with dtype=float64>"
            ]
          },
          "metadata": {},
          "execution_count": 4
        }
      ],
      "source": [
        "OUp.EulerEstimation(t_data, x_data_OU)"
      ]
    },
    {
      "cell_type": "code",
      "execution_count": 5,
      "metadata": {
        "colab": {
          "base_uri": "https://localhost:8080/"
        },
        "id": "YAxgB8Y6k7MC",
        "outputId": "3f6112d3-c01c-449c-bd40-1b42f103394a"
      },
      "outputs": [
        {
          "output_type": "execute_result",
          "data": {
            "text/plain": [
              "  message: CONVERGENCE: REL_REDUCTION_OF_F_<=_FACTR*EPSMCH\n",
              "  success: True\n",
              "   status: 0\n",
              "      fun: -222.1812639051528\n",
              "        x: [ 2.987e+00  1.016e+00  2.008e+00]\n",
              "      nit: 15\n",
              "      jac: [ 0.000e+00  7.105e-05  1.592e-04]\n",
              "     nfev: 64\n",
              "     njev: 16\n",
              " hess_inv: <3x3 LbfgsInvHessProduct with dtype=float64>"
            ]
          },
          "metadata": {},
          "execution_count": 5
        }
      ],
      "source": [
        "OUp.ShojiOzakiEstimation(t_data, x_data_OU)"
      ]
    },
    {
      "cell_type": "code",
      "execution_count": 6,
      "metadata": {
        "colab": {
          "base_uri": "https://localhost:8080/"
        },
        "id": "Ywod-4uYoHJP",
        "outputId": "6c1b04b1-4f35-443a-8b52-4f0d1f4589f4",
        "scrolled": true
      },
      "outputs": [
        {
          "output_type": "execute_result",
          "data": {
            "text/plain": [
              "  message: CONVERGENCE: REL_REDUCTION_OF_F_<=_FACTR*EPSMCH\n",
              "  success: True\n",
              "   status: 0\n",
              "      fun: -222.1812650743704\n",
              "        x: [ 2.986e+00  1.016e+00  2.008e+00]\n",
              "      nit: 15\n",
              "      jac: [-5.969e-05 -4.263e-05 -6.509e-04]\n",
              "     nfev: 64\n",
              "     njev: 16\n",
              " hess_inv: <3x3 LbfgsInvHessProduct with dtype=float64>"
            ]
          },
          "metadata": {},
          "execution_count": 6
        }
      ],
      "source": [
        "OUp.KesslerEstimation(t_data, x_data_OU)"
      ]
    },
    {
      "cell_type": "markdown",
      "metadata": {
        "id": "vTtFMxh2opn9"
      },
      "source": [
        "Task. Find the maximum likelihood estimators  numerically\n",
        " for Ornstein-Uhlenbeck process\n",
        " $$\n",
        " dX_t = -\\theta_2X_tdt + \\theta_3dW_t, \\quad \\theta=(0, 3, 2), \\quad\n",
        "N=1000, \\quad \\Delta=1\n",
        "$$\n",
        "and compare with explicit estimations\n",
        "\n",
        "$$\n",
        "\\hat{\\theta}_{2,n} = -\\frac{1}{\\Delta}\\log \\left(\\frac{\\sum_{i=1}^n X_{i-1}X_i} {\\sum_{i=1}^n X^2_{i-1}}\\right),\n",
        "$$\n",
        "$$\n",
        "\\hat{\\theta}_{3,n} = \\sqrt{\\frac{2\\hat{\\theta}_{2,n}}\n",
        "{n(1 - e^{-2\\Delta  \\hat{\\theta}_{2,n}})}\n",
        "\\sum_{i=1}^n (X_i- X_{i-1} e^{-\\Delta \\hat{\\theta}_{2, n}})^2}.\n",
        "$$"
      ]
    },
    {
      "cell_type": "code",
      "execution_count": 7,
      "metadata": {
        "id": "3RratFF9oXZT"
      },
      "outputs": [],
      "source": [
        "# явные оценки\n",
        "def explicit_theta2(X, delta):\n",
        "    return -1 / delta * np.log(np.sum(X[:-1] * X[1:]) / np.sum(X[:-1]**2))\n",
        "\n",
        "def explicit_theta3(X, theta2_hat, delta):\n",
        "    n = len(X) - 1\n",
        "    term = np.sum((X[1:] - X[:-1] * np.exp(-theta2_hat * delta))**2)\n",
        "    return np.sqrt((2 * theta2_hat) / (n * (1 - np.exp(-2 * delta * theta2_hat))) * term)"
      ]
    },
    {
      "cell_type": "code",
      "execution_count": 8,
      "metadata": {
        "id": "5RTagfcHoXZU"
      },
      "outputs": [],
      "source": [
        "Nx = 1000\n",
        "Nt = 300\n",
        "\n",
        "T = 1\n",
        "delta = 1\n",
        "\n",
        "params_OU = np.array([0, 3, 2])\n",
        "\n",
        "x0 = 1\n",
        "init_state = x0 * np.ones(Nx)\n",
        "\n",
        "OUp = OUprocess(params_OU, T, Nx, Nt, init_state)\n",
        "\n",
        "t_data, x_data_OU = OUp.EulerSolution()"
      ]
    },
    {
      "cell_type": "code",
      "execution_count": 9,
      "metadata": {
        "id": "eII9AiZMoXZU"
      },
      "outputs": [],
      "source": [
        "euler_OUp = OUp.EulerEstimation(t_data, x_data_OU)\n",
        "kessler_OUp = OUp.KesslerEstimation(t_data, x_data_OU)\n",
        "ozaki_OUp = OUp.ShojiOzakiEstimation(t_data, x_data_OU)"
      ]
    },
    {
      "cell_type": "code",
      "execution_count": 10,
      "metadata": {
        "colab": {
          "base_uri": "https://localhost:8080/"
        },
        "id": "JjS0PWcWoXZV",
        "outputId": "ec1dd86f-f858-4df3-adb6-1bccbd2002b5"
      },
      "outputs": [
        {
          "output_type": "stream",
          "name": "stdout",
          "text": [
            "[0.03415542 1.08469395 1.99994901]\n",
            "[0.03455086 1.08926478 2.00006386]\n",
            "[0.03457016 1.08905411 2.0000637 ]\n"
          ]
        }
      ],
      "source": [
        "print(euler_OUp.x)\n",
        "print(kessler_OUp.x)\n",
        "print(ozaki_OUp.x)"
      ]
    },
    {
      "cell_type": "code",
      "execution_count": 11,
      "metadata": {
        "colab": {
          "base_uri": "https://localhost:8080/"
        },
        "id": "0j5GxlF0oXZW",
        "outputId": "82c70732-fabc-4bfa-919c-bcfe97f6f350"
      },
      "outputs": [
        {
          "output_type": "stream",
          "name": "stdout",
          "text": [
            "1.0273011792957025 2.5222977367565496\n"
          ]
        }
      ],
      "source": [
        "theta2_explicit = explicit_theta2(x_data_OU.flatten(), delta)  # Все данные во временной последовательности\n",
        "theta3_explicit = explicit_theta3(x_data_OU.flatten(), theta2_explicit, delta)  # Все данные\n",
        "print(theta2_explicit, theta3_explicit)\n"
      ]
    },
    {
      "cell_type": "markdown",
      "metadata": {
        "id": "YpdCzJFkl0KD"
      },
      "source": [
        "Task 3. Consider  the Chan-Karolyi-Longstaff-Sanders (CKLS) model\n",
        "$$\n",
        " dX_{t} = (\\theta_{1}+\\theta_{2} X_{t}) dt + \\theta_{3} X_{t}^{\\theta_{4}} dW_{t},\\qquad X_{0}=2\n",
        "$$\n",
        "with $\\theta_{1}=1$, $\\theta_{2}=2$, $\\theta_{3}=0.5$, $\\theta_{4}=0.3$.\n",
        "\n",
        "Use the Euler method and\n",
        "* generate the sample data $X_{t_i}$ with time step $\\Delta t =10^{-4}$,  \n",
        "* estimate drift and diffusion coefficients,\n",
        "* compute confidence intervals for all parameters in a fitted SDE.  \n"
      ]
    },
    {
      "cell_type": "code",
      "execution_count": 12,
      "metadata": {
        "id": "XR-WqbzKl0KE"
      },
      "outputs": [],
      "source": [
        "Nx = 1\n",
        "Nt = 10000\n",
        "\n",
        "T = 1\n",
        "\n",
        "params_CKLS = np.array([1, 2, 0.5, 0.3])\n",
        "\n",
        "x0 = 2\n",
        "init_state = x0 * np.ones(Nx)\n",
        "\n",
        "CKLSp = CKLSprocess(params_CKLS, T, Nx, Nt, init_state)\n",
        "\n",
        "t_data, x_data_CKLS = CKLSp.EulerSolution()"
      ]
    },
    {
      "cell_type": "code",
      "execution_count": 13,
      "metadata": {
        "colab": {
          "base_uri": "https://localhost:8080/",
          "height": 449
        },
        "id": "ntgWc4bfl0KE",
        "outputId": "172c1945-de04-403e-b1f9-c7a1af519ae0"
      },
      "outputs": [
        {
          "output_type": "display_data",
          "data": {
            "text/plain": [
              "<Figure size 640x480 with 1 Axes>"
            ],
            "image/png": "[encoded data removed]"
          },
          "metadata": {}
        }
      ],
      "source": [
        "plt.plot(t_data, x_data_CKLS[:,0], label = 'CKLS process')\n",
        "\n",
        "plt.legend(loc = 'best', fancybox = True, shadow = True)\n",
        "plt.xlabel(\"t\")\n",
        "plt.ylabel(\"x(t)\")\n",
        "plt.grid(True)\n",
        "plt.show()"
      ]
    },
    {
      "cell_type": "code",
      "execution_count": 14,
      "metadata": {
        "colab": {
          "base_uri": "https://localhost:8080/"
        },
        "id": "AlPjxY4Xl0KE",
        "outputId": "0eac7d04-56ba-4d4c-c037-19e494c16ac5"
      },
      "outputs": [
        {
          "output_type": "execute_result",
          "data": {
            "text/plain": [
              "  message: CONVERGENCE: REL_REDUCTION_OF_F_<=_FACTR*EPSMCH\n",
              "  success: True\n",
              "   status: 0\n",
              "      fun: -32811.40169086473\n",
              "        x: [ 1.109e+00  1.940e+00  5.154e-01  2.880e-01]\n",
              "      nit: 19\n",
              "      jac: [-1.219e+00  1.193e-01  2.525e-01  4.948e-02]\n",
              "     nfev: 120\n",
              "     njev: 24\n",
              " hess_inv: <4x4 LbfgsInvHessProduct with dtype=float64>"
            ]
          },
          "metadata": {},
          "execution_count": 14
        }
      ],
      "source": [
        "CKLSp.EulerEstimation(t_data, x_data_CKLS)"
      ]
    },
    {
      "cell_type": "code",
      "execution_count": 15,
      "metadata": {
        "colab": {
          "base_uri": "https://localhost:8080/"
        },
        "id": "B8YDUmwXl0KE",
        "outputId": "0e801b66-04c4-4faf-ccfb-ea8d7fc5b944"
      },
      "outputs": [
        {
          "output_type": "stream",
          "name": "stdout",
          "text": [
            "theta0 = 0.9619099660002038 +- 0.2499785734659701 with 95.0% prob\n",
            "theta1 = 1.9745843369126208 +- 0.050277432192930134 with 95.0% prob\n",
            "theta2 = 0.4976403081898893 +- 0.0030722487235155887 with 95.0% prob\n",
            "theta3 = 0.3030960204591601 +- 0.0033723079848373204 with 95.0% prob\n"
          ]
        }
      ],
      "source": [
        "#Confidence intervals\n",
        "n = 50\n",
        "result = np.zeros((n, 4))\n",
        "for k in range(0, n):\n",
        "    t_data, x_data_CKLS = CKLSp.EulerSolution()\n",
        "    result[k] = CKLSp.EulerEstimation(t_data, x_data_CKLS).x\n",
        "\n",
        "\n",
        "alpha = 0.05\n",
        "q = t.ppf(1-alpha/2, n - 1)\n",
        "for i in range(0, 4):\n",
        "    m = np.mean(result[:,i])\n",
        "    v = np.std(result[:,i], ddof=1)\n",
        "    print(f\"theta{i} = {m} +- {v * q / np.sqrt(n)} with {100 - alpha * 100}% prob\")"
      ]
    },
    {
      "cell_type": "markdown",
      "metadata": {
        "id": "z350sXmPl0KE"
      },
      "source": [
        "Task 4. Consider the Vasicek model\n",
        "$$\n",
        "dX_{t} = \\theta_{1} (\\theta_{2}- X_{t}) dt + \\theta_{3} dW_{t},\\qquad X_{0}=5\n",
        "$$\n",
        "with $\\theta_{1}=3$, $\\theta_{2}=2$ and $\\theta_{3}=0.5$.\n",
        "\n",
        "Use the Ozaki method and\n",
        "*   generate the sample data $X_{t_i}$, time step $\\Delta t =10^{-2}$,\n",
        "*   estimate drift and diffusion coefficients,\n",
        "*   compute confidence intervals for all parameters in a fitted SDE."
      ]
    },
    {
      "cell_type": "code",
      "execution_count": 16,
      "metadata": {
        "id": "S67Z0D8el0KE"
      },
      "outputs": [],
      "source": [
        "Nx = 1\n",
        "Nt = 100\n",
        "\n",
        "T = 1\n",
        "\n",
        "params_OU = np.array([3, 2, 0.5])\n",
        "\n",
        "x0 = 5\n",
        "init_state = x0 * np.ones(Nx)\n",
        "\n",
        "OUp = OUprocess(params_OU, T, Nx, Nt, init_state)\n",
        "\n",
        "t_data, x_data_OU = OUp.EulerSolution()"
      ]
    },
    {
      "cell_type": "code",
      "execution_count": 17,
      "metadata": {
        "id": "Id5MhdBSoXZY"
      },
      "outputs": [],
      "source": [
        "# x_data_OU"
      ]
    },
    {
      "cell_type": "code",
      "execution_count": 18,
      "metadata": {
        "colab": {
          "base_uri": "https://localhost:8080/"
        },
        "id": "Q1twW-N1l0KE",
        "outputId": "c5d9d25b-0409-4b38-c12c-f7664c53d41f"
      },
      "outputs": [
        {
          "output_type": "execute_result",
          "data": {
            "text/plain": [
              "  message: CONVERGENCE: REL_REDUCTION_OF_F_<=_FACTR*EPSMCH\n",
              "  success: True\n",
              "   status: 0\n",
              "      fun: -157.78104223681797\n",
              "        x: [ 2.143e+00  1.548e+00  5.018e-01]\n",
              "      nit: 16\n",
              "      jac: [-5.116e-05  9.663e-05 -1.108e-04]\n",
              "     nfev: 96\n",
              "     njev: 24\n",
              " hess_inv: <3x3 LbfgsInvHessProduct with dtype=float64>"
            ]
          },
          "metadata": {},
          "execution_count": 18
        }
      ],
      "source": [
        "OUp.OzakiEstimation(t_data, x_data_OU)"
      ]
    },
    {
      "cell_type": "code",
      "execution_count": 19,
      "metadata": {
        "colab": {
          "base_uri": "https://localhost:8080/"
        },
        "id": "5_2Txb7Hl0KE",
        "outputId": "111fd460-9d13-4922-da00-f8e94d755a87"
      },
      "outputs": [
        {
          "output_type": "stream",
          "name": "stdout",
          "text": [
            "theta0 = 3.332020506062367 +- 0.1825167105838363 with 95.0% prob\n",
            "theta1 = 1.9984356428763492 +- 0.05552444616140356 with 95.0% prob\n",
            "theta2 = 0.41574616246314056 +- 0.0773342360731056 with 95.0% prob\n"
          ]
        }
      ],
      "source": [
        "#Confidence intervals\n",
        "n = 50\n",
        "result = np.zeros((n, 3))\n",
        "for k in range(0, n):\n",
        "    t_data, x_data_OU = OUp.EulerSolution()\n",
        "    result[k] = OUp.OzakiEstimation(t_data, x_data_OU).x\n",
        "\n",
        "\n",
        "alpha = 0.05\n",
        "q = t.ppf(1-alpha/2, n - 1)\n",
        "for i in range(0, 3):\n",
        "    m = np.mean(result[:,i])\n",
        "    v = np.std(result[:,i], ddof=1)\n",
        "    print(f\"theta{i} = {m} +- {v * q / np.sqrt(n)} with {100 - alpha * 100}% prob\")"
      ]
    },
    {
      "cell_type": "markdown",
      "metadata": {
        "id": "8-I7G75Fl0KE"
      },
      "source": [
        "Task 5. Consider the model\n",
        "$$\n",
        "  dX_{t} = a(t)X_{t} dt + \\theta_{2}X_{t} dW_{t},\\qquad X_{0}=10\n",
        "$$\n",
        "with $a(t) = \\theta_{1}t$, $\\theta_{1}=-2$, $\\theta_{2}=0.2$.\n",
        "\n",
        "Use the Shoji-Ozaki method and:\n",
        "* generate the sample data $X_{t_i}$ time step $\\Delta t =10^{-3}$,  \n",
        "* estimate drift and diffusion coefficients,\n",
        "* compute confidence intervals for all parameters in a fitted SDE."
      ]
    },
    {
      "cell_type": "code",
      "execution_count": 20,
      "metadata": {
        "id": "Ok7FIiVdl0KE"
      },
      "outputs": [],
      "source": [
        "Nx = 1\n",
        "Nt = 1000\n",
        "\n",
        "T = 1\n",
        "\n",
        "params_T5 = np.array([-2, 0.2])\n",
        "\n",
        "x0 = 5\n",
        "init_state = x0 * np.ones(Nx)\n",
        "\n",
        "T5p = Task5process(params_T5, T, Nx, Nt, init_state)\n",
        "\n",
        "t_data, x_data_T5 = T5p.EulerSolution()"
      ]
    },
    {
      "cell_type": "code",
      "execution_count": 21,
      "metadata": {
        "colab": {
          "base_uri": "https://localhost:8080/"
        },
        "id": "pRD3TJKumHBz",
        "outputId": "b08e7120-80d2-489e-88c6-a3ad66e09c7f"
      },
      "outputs": [
        {
          "output_type": "execute_result",
          "data": {
            "text/plain": [
              "  message: CONVERGENCE: REL_REDUCTION_OF_F_<=_FACTR*EPSMCH\n",
              "  success: True\n",
              "   status: 0\n",
              "      fun: -2342.816261975101\n",
              "        x: [-1.687e+00  2.028e-01]\n",
              "      nit: 15\n",
              "      jac: [-1.269e-02  9.049e-03]\n",
              "     nfev: 66\n",
              "     njev: 22\n",
              " hess_inv: <2x2 LbfgsInvHessProduct with dtype=float64>"
            ]
          },
          "metadata": {},
          "execution_count": 21
        }
      ],
      "source": [
        "T5p.ShojiOzakiEstimation(t_data, x_data_T5)"
      ]
    },
    {
      "cell_type": "code",
      "execution_count": 22,
      "metadata": {
        "colab": {
          "base_uri": "https://localhost:8080/",
          "height": 449
        },
        "id": "RImgtCF_l0KF",
        "outputId": "409d89da-011b-414f-9955-32c5280c1f1a"
      },
      "outputs": [
        {
          "output_type": "display_data",
          "data": {
            "text/plain": [
              "<Figure size 640x480 with 1 Axes>"
            ],
            "image/png": "[encoded data removed]"
          },
          "metadata": {}
        }
      ],
      "source": [
        "plt.plot(t_data, x_data_T5[:,0], label = 'Task 5 process')\n",
        "\n",
        "plt.legend(loc = 'best', fancybox = True, shadow = True)\n",
        "plt.xlabel(\"t\")\n",
        "plt.ylabel(\"x(t)\")\n",
        "plt.grid(True)\n",
        "plt.show()"
      ]
    },
    {
      "cell_type": "code",
      "execution_count": 23,
      "metadata": {
        "colab": {
          "base_uri": "https://localhost:8080/"
        },
        "id": "InRuiVhzl0KF",
        "outputId": "1343aae1-e21c-4fdf-9269-0c02ec4f01a7"
      },
      "outputs": [
        {
          "output_type": "stream",
          "name": "stdout",
          "text": [
            "theta0 = -2.039034925318457 +- 0.09364138465659283 with 95.0% prob\n",
            "theta1 = 0.20010613404752853 +- 0.0013452148228816983 with 95.0% prob\n"
          ]
        }
      ],
      "source": [
        "#Confidence intervals\n",
        "n = 50\n",
        "result = np.zeros((n, 2))\n",
        "for k in range(0, n):\n",
        "    t_data, x_data_T5 = T5p.EulerSolution()\n",
        "    result[k] = T5p.ShojiOzakiEstimation(t_data, x_data_T5).x\n",
        "\n",
        "\n",
        "alpha = 0.05\n",
        "q = t.ppf(1-alpha/2, n - 1)\n",
        "for i in range(0, 2):\n",
        "    m = np.mean(result[:,i])\n",
        "    v = np.std(result[:,i], ddof=1)\n",
        "    print(f\"theta{i} = {m} +- {v * q / np.sqrt(n)} with {100 - alpha * 100}% prob\")"
      ]
    },
    {
      "cell_type": "markdown",
      "metadata": {
        "id": "zhSjEaUGl0KF"
      },
      "source": [
        "### Task 6. Consider the Hull-White (extended Vasicek) model\n",
        "$$\n",
        "  dX_{t} = a(t)(b(t)-X_{t}) dt + \\sigma(t) dW_{t},\\qquad X_{0}=2\n",
        "$$\n",
        "with $a(t) = \\theta_{1}t$, $b(t)=\\theta_{2}\\sqrt{t}$, the volatility depends on time $\\sigma(t)=\\theta_{3}t$.\n",
        "\n",
        "Generate sample data of $X_t$ with time step $\\Delta t =10^{-3}$ and $\\theta_{1}=3$, $\\theta_{2}=1$ and $\\theta_{3}=0.3$, then\n",
        "use the Kessler method and:\n",
        "*   estimate drift and diffusion coefficients,\n",
        "*   compute confidence intervals for all parameters in a fitted SDE."
      ]
    },
    {
      "cell_type": "code",
      "execution_count": 24,
      "metadata": {
        "id": "D_AM54Stl0KF"
      },
      "outputs": [],
      "source": [
        "Nx = 1\n",
        "Nt = 100\n",
        "\n",
        "T = 1\n",
        "\n",
        "params_HW = np.array([3, 1, 0.3])\n",
        "\n",
        "x0 = 2\n",
        "init_state = x0 * np.ones(Nx)\n",
        "\n",
        "HWp = HullWhiteprocess(params_HW, T, Nx, Nt, init_state)\n",
        "\n",
        "t_data, x_data_HW = HWp.EulerSolution()"
      ]
    },
    {
      "cell_type": "code",
      "execution_count": 25,
      "metadata": {
        "colab": {
          "base_uri": "https://localhost:8080/",
          "height": 449
        },
        "id": "VrNcrc22l0KF",
        "outputId": "5458a9b6-2582-4393-a792-c6054d152d72"
      },
      "outputs": [
        {
          "output_type": "display_data",
          "data": {
            "text/plain": [
              "<Figure size 640x480 with 1 Axes>"
            ],
            "image/png": "[encoded data removed]"
          },
          "metadata": {}
        }
      ],
      "source": [
        "plt.plot(t_data, x_data_HW[:,0], label = 'HW process')\n",
        "\n",
        "plt.legend(loc = 'best', fancybox = True, shadow = True)\n",
        "plt.xlabel(\"t\")\n",
        "plt.ylabel(\"x(t)\")\n",
        "plt.grid(True)\n",
        "plt.show()"
      ]
    },
    {
      "cell_type": "code",
      "execution_count": 26,
      "metadata": {
        "colab": {
          "base_uri": "https://localhost:8080/"
        },
        "id": "GLTStP4lluvK",
        "outputId": "f32239cb-dbf9-47dc-b94e-b58a4fe451c5"
      },
      "outputs": [
        {
          "output_type": "execute_result",
          "data": {
            "text/plain": [
              "  message: CONVERGENCE: REL_REDUCTION_OF_F_<=_FACTR*EPSMCH\n",
              "  success: True\n",
              "   status: 0\n",
              "      fun: -301.89941517342714\n",
              "        x: [ 2.675e+00  1.286e+00  3.143e-01]\n",
              "      nit: 12\n",
              "      jac: [ 1.348e-01  8.495e-02  2.769e-01]\n",
              "     nfev: 100\n",
              "     njev: 25\n",
              " hess_inv: <3x3 LbfgsInvHessProduct with dtype=float64>"
            ]
          },
          "metadata": {},
          "execution_count": 26
        }
      ],
      "source": [
        "HWp.KesslerEstimation(t_data, x_data_HW)"
      ]
    },
    {
      "cell_type": "markdown",
      "metadata": {
        "id": "z7C4jqsMMH7b"
      },
      "source": [
        "Task. Take a process from previous tasks and approximation method, find the solution, compute confidence intervals, and compare results with baseline.\n",
        "Plot the graph and table.\n",
        "\n",
        "Задания по вариантам\n",
        "1. Байков Илья Павлович OU + Kessler\n",
        "1. Гонгапшев Астемир Султанович CKLS + Shoji-Ozaki\n",
        "1. Кудинкина Екатерина Андреевна CKLS + Kessler\n",
        "1. Кулига Андрей Владимирович Vasicek + Euler\n",
        "1. Мартыненко Александр Станиславович Vasicek + Shoji-Ozaki\n",
        "1. Мироманов Даниил Борисович Vasicek + Kessler\n",
        "1. Паршаков Никита Сергеевич extended Vasicek + Euler\n",
        "1. Петренко Влада Витальевна extended Vasicek + Ozaki\n",
        "1. Тумачев Серафим Дмитриевич extended Vasicek + Shoji-Ozaki\n",
        "1. Хубиев Касымхан Юсуфович model 5 + Euler\n",
        "1. Ширяева Софья Игоревна model 5 + Ozaki\n",
        "1. Якунин Сергей Александрович model 5 + Kessler\n",
        "1. Трофимов Яков Георгиевич CKLS + Ozaki\n"
      ]
    },
    {
      "cell_type": "markdown",
      "metadata": {
        "id": "fIxIj21QoXZc"
      },
      "source": [
        "### Extended Vasicek + Ozaki"
      ]
    },
    {
      "cell_type": "code",
      "source": [
        "# сonfidence interval bounds\n",
        "def Vasicek_bounds(alpha_interval, params, t, s, xs):\n",
        "    theta1, theta2, theta3 = params  # alpha, mu, sigma\n",
        "    alpha, mu, sigma = theta1, theta2, theta3\n",
        "\n",
        "    mean_t = mu + (xs - mu) * np.exp(-alpha * (t - s))\n",
        "    variance_t = (sigma**2 / (2 * alpha)) * (1 - np.exp(-2 * alpha * (t - s)))\n",
        "\n",
        "    z_score = norm.ppf(1 - alpha_interval / 2)\n",
        "    lower_bound = mean_t - z_score * np.sqrt(variance_t)\n",
        "    upper_bound = mean_t + z_score * np.sqrt(variance_t)\n",
        "\n",
        "    return [lower_bound, upper_bound]\n",
        "\n",
        "\n",
        "# Vasicek process\n",
        "def vasicek_process(X0, alpha, mu, sigma, T, dt, method='ozaki'):\n",
        "    steps = int(T / dt)\n",
        "    X = np.zeros(steps + 1)\n",
        "    X[0] = X0\n",
        "\n",
        "    for i in range(1, steps + 1):\n",
        "        drift = alpha * (mu - X[i - 1]) * dt\n",
        "        diffusion = sigma * np.sqrt(dt) * np.random.normal()\n",
        "\n",
        "        if method == 'ozaki':\n",
        "            X[i] = X[i - 1] + drift + diffusion\n",
        "        elif method == 'kessler':\n",
        "            X[i] = X[i - 1] + drift + diffusion + 0.5 * sigma**2 * dt\n",
        "\n",
        "    return X\n",
        "\n",
        "theta1, theta2, theta3 = 0.15, 0.2, 0.3\n",
        "X0 = 2\n",
        "T = 1\n",
        "dt = 1 / 600\n",
        "steps = int(T / dt)\n",
        "alpha_interval = 0.05  # сonfidence level for bounds (e.g., 95%)\n",
        "\n",
        "t_data = np.linspace(0, T, steps + 1)\n",
        "\n",
        "# Ozaki and Kessler simulations\n",
        "num_simulations = 1\n",
        "np.random.seed(30)\n",
        "\n",
        "simulations_ozaki = np.array([vasicek_process(X0, theta1, theta2, theta3, T, dt, method='ozaki') for _ in range(num_simulations)])\n",
        "simulations_kessler = np.array([vasicek_process(X0, theta1, theta2, theta3, T, dt, method='kessler') for _ in range(num_simulations)])\n",
        "\n",
        "# Mean and standard deviation of simulations\n",
        "mean_ozaki = np.mean(simulations_ozaki, axis=0)\n",
        "std_dev_ozaki = np.std(simulations_ozaki, axis=0, ddof=1)\n",
        "mean_kessler = np.mean(simulations_kessler, axis=0)\n",
        "std_dev_kessler = np.std(simulations_kessler, axis=0, ddof=1)\n",
        "\n",
        "# Confidence bounds using Vasicek_bounds\n",
        "low_bound_data = np.zeros_like(t_data)\n",
        "up_bound_data = np.zeros_like(t_data)\n",
        "\n",
        "for i in range(1, len(t_data)):\n",
        "    bounds = Vasicek_bounds(alpha_interval, [theta1, theta2, theta3], t_data[i], 0, X0)\n",
        "    low_bound_data[i] = bounds[0]\n",
        "    up_bound_data[i] = bounds[1]\n",
        "low_bound_data[0] = X0\n",
        "up_bound_data[0] = X0\n",
        "\n",
        "plt.figure(figsize=(10, 6))\n",
        "plt.plot(t_data, mean_ozaki, label=\"Ozaki Approximation (mean)\", color=\"blue\")\n",
        "plt.plot(t_data, mean_kessler, label=\"Kessler Approximation (mean)\", color=\"green\")\n",
        "plt.plot(t_data, up_bound_data, '--', color=\"purple\", label=\"Upper Bound\")\n",
        "plt.plot(t_data, low_bound_data, '--', color=\"orange\", label=\"Lower Bound\")\n",
        "plt.xlabel(\"Time\")\n",
        "plt.ylabel(\"X(t)\")\n",
        "plt.legend()\n",
        "plt.title(\"Comparison of Ozaki and Kessler Approximations for Extended Vasicek Process with Confidence Intervals\")\n",
        "plt.grid()\n",
        "plt.show()\n",
        "\n",
        "diff_ozaki_kessler = mean_ozaki - mean_kessler\n",
        "df = pd.DataFrame({\n",
        "    \"Time\": t_data,\n",
        "    \"Ozaki\": mean_ozaki,\n",
        "    \"Kessler (baseline)\": mean_kessler,\n",
        "    \"Difference (Ozaki - Kessler)\": diff_ozaki_kessler\n",
        "})\n",
        "\n",
        "step_index = int(0.1 / dt)\n",
        "df_step_0_1 = df.iloc[::step_index]\n",
        "print(df_step_0_1)\n",
        "\n"
      ],
      "metadata": {
        "colab": {
          "base_uri": "https://localhost:8080/",
          "height": 842
        },
        "id": "uuJZGcxZolg9",
        "outputId": "8f4f8e10-9cdc-4a1a-f37f-a041e2d4ce25"
      },
      "execution_count": 29,
      "outputs": [
        {
          "output_type": "stream",
          "name": "stderr",
          "text": [
            "/usr/local/lib/python3.10/dist-packages/numpy/core/_methods.py:206: RuntimeWarning: Degrees of freedom <= 0 for slice\n",
            "  ret = _var(a, axis=axis, dtype=dtype, out=out, ddof=ddof,\n",
            "/usr/local/lib/python3.10/dist-packages/numpy/core/_methods.py:195: RuntimeWarning: invalid value encountered in divide\n",
            "  ret = um.true_divide(\n"
          ]
        },
        {
          "output_type": "display_data",
          "data": {
            "text/plain": [
              "<Figure size 1000x600 with 1 Axes>"
            ],
            "image/png": "[encoded data removed]"
          },
          "metadata": {}
        },
        {
          "output_type": "stream",
          "name": "stdout",
          "text": [
            "     Time     Ozaki  Kessler (baseline)  Difference (Ozaki - Kessler)\n",
            "0     0.0  2.000000            2.000000                      0.000000\n",
            "60    0.1  1.944676            2.068079                     -0.123404\n",
            "120   0.2  1.858751            2.112796                     -0.254044\n",
            "180   0.3  1.897534            2.116432                     -0.218897\n",
            "240   0.4  1.782009            2.173279                     -0.391270\n",
            "300   0.5  1.844333            2.080261                     -0.235927\n",
            "360   0.6  1.692559            2.170686                     -0.478127\n",
            "420   0.7  1.487215            2.298058                     -0.810843\n",
            "480   0.8  1.477129            2.256210                     -0.779080\n",
            "540   0.9  1.585985            2.084053                     -0.498069\n",
            "600   1.0  1.544229            1.993048                     -0.448819\n"
          ]
        }
      ]
    },
    {
      "cell_type": "code",
      "source": [
        "# Confidence intervals for parameter estimates\n",
        "num_simulations = 10\n",
        "q = t.ppf(1 - alpha_interval / 2, n - 1)\n",
        "\n",
        "simulations_ozaki = np.array([vasicek_process(X0, theta1, theta2, theta3, T, dt, method='ozaki') for _ in range(num_simulations)])\n",
        "simulations_kessler = np.array([vasicek_process(X0, theta1, theta2, theta3, T, dt, method='kessler') for _ in range(num_simulations)])\n",
        "\n",
        "print(\"Ozaki Method:\")\n",
        "for i in range(4):\n",
        "    m = np.mean(simulations_ozaki[:, i])\n",
        "    v = np.std(simulations_ozaki[:, i], ddof=1)\n",
        "    ci = v * q / np.sqrt(n)\n",
        "    print(f\"theta{i} = {m:.4f} ± {ci:.4f} with {100 - alpha_interval * 100}% confidence\")\n",
        "\n",
        "print(\"\\nKessler Method:\")\n",
        "for i in range(4):\n",
        "    m = np.mean(simulations_kessler[:, i])\n",
        "    v = np.std(simulations_kessler[:, i], ddof=1)\n",
        "    ci = v * q / np.sqrt(n)\n",
        "    print(f\"theta{i} = {m:.4f} ± {ci:.4f} with {100 - alpha_interval * 100}% confidence\")"
      ],
      "metadata": {
        "colab": {
          "base_uri": "https://localhost:8080/"
        },
        "id": "_86UiWfZ12lY",
        "outputId": "47b70a54-05db-4b57-81bf-699391a67b3d"
      },
      "execution_count": 30,
      "outputs": [
        {
          "output_type": "stream",
          "name": "stdout",
          "text": [
            "Ozaki Method:\n",
            "theta0 = 2.0000 ± 0.0000 with 95.0% confidence\n",
            "theta1 = 2.0011 ± 0.0021 with 95.0% confidence\n",
            "theta2 = 2.0028 ± 0.0031 with 95.0% confidence\n",
            "theta3 = 2.0074 ± 0.0048 with 95.0% confidence\n",
            "\n",
            "Kessler Method:\n",
            "theta0 = 2.0000 ± 0.0000 with 95.0% confidence\n",
            "theta1 = 1.9966 ± 0.0040 with 95.0% confidence\n",
            "theta2 = 1.9960 ± 0.0047 with 95.0% confidence\n",
            "theta3 = 1.9967 ± 0.0069 with 95.0% confidence\n"
          ]
        }
      ]
    }
  ],
  "metadata": {
    "colab": {
      "provenance": []
    },
    "kernelspec": {
      "display_name": "Python 3 (ipykernel)",
      "language": "python",
      "name": "python3"
    },
    "language_info": {
      "codemirror_mode": {
        "name": "ipython",
        "version": 3
      },
      "file_extension": ".py",
      "mimetype": "text/x-python",
      "name": "python",
      "nbconvert_exporter": "python",
      "pygments_lexer": "ipython3",
      "version": "3.12.1"
    }
  },
  "nbformat": 4,
  "nbformat_minor": 0
}